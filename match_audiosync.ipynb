{
 "cells": [
  {
   "cell_type": "code",
   "execution_count": 9,
   "metadata": {},
   "outputs": [],
   "source": [
    "import librosa\n",
    "import numpy as np"
   ]
  },
  {
   "cell_type": "code",
   "execution_count": 10,
   "metadata": {},
   "outputs": [
    {
     "name": "stdout",
     "output_type": "stream",
     "text": [
      "파일 읽기 완료\n",
      "(773735,)\n",
      "[-1.2434498e-14  7.1054274e-15  7.1054274e-15 ...  1.3948970e-05\n",
      "  2.3264314e-05  1.6807786e-05] 22050\n",
      "(747936,)\n",
      "[ 7.4940054e-16  1.6653345e-16  2.4980018e-16 ... -7.2540762e-04\n",
      "  3.3656741e-04 -4.0787432e-04] 22050\n"
     ]
    }
   ],
   "source": [
    "# 두 개의 MP3 파일 경로 설정\n",
    "mp3_file1 = \"./data/audios/test1.mp3\"\n",
    "mp3_file2 = \"./data/audios/test2.mp3\"\n",
    "\n",
    "# librosa를 사용하여 MP3 파일 읽기\n",
    "y1, sr1 = librosa.load(mp3_file1)\n",
    "y2, sr2 = librosa.load(mp3_file2)\n",
    "\n",
    "print('파일 읽기 완료')\n",
    "print(y1.shape)\n",
    "print(y1, sr1)\n",
    "print(y2.shape)\n",
    "print(y2, sr2)"
   ]
  },
  {
   "cell_type": "code",
   "execution_count": 11,
   "metadata": {},
   "outputs": [
    {
     "name": "stdout",
     "output_type": "stream",
     "text": [
      "cross correlation 계산 중...\n",
      "[ 5.07171234e-18 -7.08316826e-18  8.51341317e-18 ...  1.85262398e-20\n",
      "  2.02333483e-20  1.25957635e-20]\n",
      "(1521670,)\n",
      "peak 찾는 중...\n",
      "14814.752\n",
      "763063\n"
     ]
    }
   ],
   "source": [
    "# cross-correlation 계산\n",
    "print('cross correlation 계산 중...')\n",
    "correlation = np.correlate(y1, y2, mode='full')\n",
    "print(correlation)\n",
    "print(correlation.shape)\n",
    "\n",
    "\n",
    "# cross-correlation에서 peak 위치 찾기 (가장 큰 값의 인덱스)\n",
    "print('peak 찾는 중...')\n",
    "peak_index = np.argmax(correlation)\n",
    "print(correlation[peak_index])\n",
    "print(peak_index)"
   ]
  },
  {
   "cell_type": "code",
   "execution_count": 12,
   "metadata": {},
   "outputs": [
    {
     "name": "stdout",
     "output_type": "stream",
     "text": [
      "두 MP3 파일의 sync 차이는 약 0.69 초입니다.\n"
     ]
    }
   ],
   "source": [
    "# sync 차이 계산 (peak 위치를 초 단위로 변환)\n",
    "sync_difference_seconds = (peak_index - len(y2) + 1) / sr1\n",
    "print(f\"두 MP3 파일의 sync 차이는 약 {sync_difference_seconds:.2f} 초입니다.\")"
   ]
  },
  {
   "cell_type": "code",
   "execution_count": null,
   "metadata": {},
   "outputs": [],
   "source": []
  }
 ],
 "metadata": {
  "kernelspec": {
   "display_name": "venv",
   "language": "python",
   "name": "python3"
  },
  "language_info": {
   "codemirror_mode": {
    "name": "ipython",
    "version": 3
   },
   "file_extension": ".py",
   "mimetype": "text/x-python",
   "name": "python",
   "nbconvert_exporter": "python",
   "pygments_lexer": "ipython3",
   "version": "3.11.4"
  },
  "orig_nbformat": 4
 },
 "nbformat": 4,
 "nbformat_minor": 2
}
